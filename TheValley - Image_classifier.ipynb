{
 "cells": [
  {
   "cell_type": "code",
   "execution_count": 11,
   "metadata": {},
   "outputs": [],
   "source": [
    "import os\n",
    "import time\n",
    "import json\n",
    "\n",
    "import pandas as pd\n",
    "import matplotlib.pyplot as plt\n",
    "import pickle\n",
    "\n",
    "from PIL import Image\n",
    "from IPython.display import clear_output\n"
   ]
  },
  {
   "cell_type": "code",
   "execution_count": 3,
   "metadata": {},
   "outputs": [
    {
     "data": {
      "text/html": [
       "<div>\n",
       "<style scoped>\n",
       "    .dataframe tbody tr th:only-of-type {\n",
       "        vertical-align: middle;\n",
       "    }\n",
       "\n",
       "    .dataframe tbody tr th {\n",
       "        vertical-align: top;\n",
       "    }\n",
       "\n",
       "    .dataframe thead th {\n",
       "        text-align: right;\n",
       "    }\n",
       "</style>\n",
       "<table border=\"1\" class=\"dataframe\">\n",
       "  <thead>\n",
       "    <tr style=\"text-align: right;\">\n",
       "      <th></th>\n",
       "      <th>photo_id</th>\n",
       "      <th>label</th>\n",
       "    </tr>\n",
       "  </thead>\n",
       "  <tbody>\n",
       "    <tr>\n",
       "      <th>30041</th>\n",
       "      <td>8cABbLSBC9RFqHSx_wgG5g</td>\n",
       "      <td>food</td>\n",
       "    </tr>\n",
       "    <tr>\n",
       "      <th>85008</th>\n",
       "      <td>Q8RtRWNR30z1U-st1f618Q</td>\n",
       "      <td>food</td>\n",
       "    </tr>\n",
       "    <tr>\n",
       "      <th>33552</th>\n",
       "      <td>9jeWcSmt2trLgGthSZjdwg</td>\n",
       "      <td>food</td>\n",
       "    </tr>\n",
       "    <tr>\n",
       "      <th>77935</th>\n",
       "      <td>Ns6QABZamxkHKbbWV3riwA</td>\n",
       "      <td>food</td>\n",
       "    </tr>\n",
       "    <tr>\n",
       "      <th>183677</th>\n",
       "      <td>ujxNd-z5iSJ1iR9Tw-E1vg</td>\n",
       "      <td>food</td>\n",
       "    </tr>\n",
       "  </tbody>\n",
       "</table>\n",
       "</div>"
      ],
      "text/plain": [
       "                      photo_id label\n",
       "30041   8cABbLSBC9RFqHSx_wgG5g  food\n",
       "85008   Q8RtRWNR30z1U-st1f618Q  food\n",
       "33552   9jeWcSmt2trLgGthSZjdwg  food\n",
       "77935   Ns6QABZamxkHKbbWV3riwA  food\n",
       "183677  ujxNd-z5iSJ1iR9Tw-E1vg  food"
      ]
     },
     "execution_count": 3,
     "metadata": {},
     "output_type": "execute_result"
    }
   ],
   "source": [
    "# Leer el pickle. En su defecto crear otro dataframe \n",
    "\n",
    "pickle_path = '/Users/tonivila/Downloads/para_limpiar.pkl' # Especificar la URL\n",
    "df = pd.read_pickle(pickle_path)\n",
    "df.head()"
   ]
  },
  {
   "cell_type": "code",
   "execution_count": 4,
   "metadata": {},
   "outputs": [
    {
     "data": {
      "text/html": [
       "<div>\n",
       "<style scoped>\n",
       "    .dataframe tbody tr th:only-of-type {\n",
       "        vertical-align: middle;\n",
       "    }\n",
       "\n",
       "    .dataframe tbody tr th {\n",
       "        vertical-align: top;\n",
       "    }\n",
       "\n",
       "    .dataframe thead th {\n",
       "        text-align: right;\n",
       "    }\n",
       "</style>\n",
       "<table border=\"1\" class=\"dataframe\">\n",
       "  <thead>\n",
       "    <tr style=\"text-align: right;\">\n",
       "      <th></th>\n",
       "      <th>photo_id</th>\n",
       "      <th>label</th>\n",
       "    </tr>\n",
       "  </thead>\n",
       "  <tbody>\n",
       "    <tr>\n",
       "      <th>196365</th>\n",
       "      <td>yqNFHflhf-y9ZW2xtucy9A</td>\n",
       "      <td>menu</td>\n",
       "    </tr>\n",
       "    <tr>\n",
       "      <th>196567</th>\n",
       "      <td>yuDiGILa39ZN5DXZnElfig</td>\n",
       "      <td>menu</td>\n",
       "    </tr>\n",
       "    <tr>\n",
       "      <th>196872</th>\n",
       "      <td>yzotdcgH1Cb2TKwdwkwKaA</td>\n",
       "      <td>menu</td>\n",
       "    </tr>\n",
       "    <tr>\n",
       "      <th>198559</th>\n",
       "      <td>zXbjfZTuVfuqCBP2XKQlHg</td>\n",
       "      <td>menu</td>\n",
       "    </tr>\n",
       "    <tr>\n",
       "      <th>198766</th>\n",
       "      <td>zafQ51PjbkDaLn4k6gjbLg</td>\n",
       "      <td>menu</td>\n",
       "    </tr>\n",
       "  </tbody>\n",
       "</table>\n",
       "</div>"
      ],
      "text/plain": [
       "                      photo_id label\n",
       "196365  yqNFHflhf-y9ZW2xtucy9A  menu\n",
       "196567  yuDiGILa39ZN5DXZnElfig  menu\n",
       "196872  yzotdcgH1Cb2TKwdwkwKaA  menu\n",
       "198559  zXbjfZTuVfuqCBP2XKQlHg  menu\n",
       "198766  zafQ51PjbkDaLn4k6gjbLg  menu"
      ]
     },
     "execution_count": 4,
     "metadata": {},
     "output_type": "execute_result"
    }
   ],
   "source": [
    "df.tail()"
   ]
  },
  {
   "cell_type": "code",
   "execution_count": 5,
   "metadata": {},
   "outputs": [
    {
     "name": "stdout",
     "output_type": "stream",
     "text": [
      "<class 'pandas.core.frame.DataFrame'>\n",
      "Int64Index: 21678 entries, 30041 to 198766\n",
      "Data columns (total 2 columns):\n",
      " #   Column    Non-Null Count  Dtype \n",
      "---  ------    --------------  ----- \n",
      " 0   photo_id  21678 non-null  object\n",
      " 1   label     21678 non-null  object\n",
      "dtypes: object(2)\n",
      "memory usage: 508.1+ KB\n"
     ]
    }
   ],
   "source": [
    "df.info()"
   ]
  },
  {
   "cell_type": "code",
   "execution_count": 12,
   "metadata": {},
   "outputs": [],
   "source": [
    "# Image Classifier\n",
    "\n",
    "label = ['food', 'inside', 'outside', 'drink', 'menu', 'KO']\n",
    "range_ = list(range(1, 7))\n",
    "label_dict = dict(zip(range_, label))\n",
    "cat_dict = dict(zip(label, range_))\n",
    "\n",
    "\n",
    "def check_labels(category, img_folder, check_folder, start, end, checkpoint_number, dataframe):\n",
    "\n",
    "    ids_dict = {}\n",
    "    ids = list(dataframe[dataframe.label == category].photo_id)[start:end]\n",
    "    len_ = len(ids)\n",
    "    checkpoint = checkpoint_number\n",
    "\n",
    "    # Loop por los photo_id de la categoría definida. Visualización y clasificación.\n",
    "    for i in ids:\n",
    "        current_label = list(dataframe[dataframe.photo_id == i].label)[0]\n",
    "\n",
    "        # Control en el caso de que haya una imagen corrupta y no se pueda cargar. \n",
    "        while True:\n",
    "            try:\n",
    "                im = Image.open(img_folder + '/' + i + '.jpg')\n",
    "                break\n",
    "\n",
    "            except:\n",
    "                ids_dict[i] = [current_label, 'Corrupt', 'KO']\n",
    "                continue\n",
    "        \n",
    "\n",
    "        plt.title(f'{current_label}. (Quedan {len_} fotos)')\n",
    "        plt.imshow(im)\n",
    "        plt.show()\n",
    "        \n",
    "        print('¿Está bien tageada?')\n",
    "        print('Sí - pulsa intro, 1: food, 2: inside, 3: outside, 4: drink, 5: menu, 6: KO')\n",
    "\n",
    "        # Check si el valor está permitido y asignar las categorías.\n",
    "        while True:\n",
    "\n",
    "            # Guardar el diccionario en un json por seguridad\n",
    "            if checkpoint == 0:\n",
    "                json_name = f'checkpoin_cat_{category}.json'\n",
    "                with open(check_folder + '/' + json_name, 'w') as save_check:\n",
    "                    json.dump(ids_dict, save_check)\n",
    "                \n",
    "                print('Atención. Se ha grabado un checkpoint :)')\n",
    "                checkpoint = checkpoint_number\n",
    "                \n",
    "            \n",
    "            # Pedir opciones\n",
    "            usr_input = input()\n",
    "            \n",
    "            if usr_input == '':\n",
    "                ids_dict[i] = [current_label, current_label, 'OK']\n",
    "                checkpoint -= 1\n",
    "                len_ -= 1\n",
    "                break\n",
    "\n",
    "            else:\n",
    "                try:\n",
    "                    if int(usr_input) == cat_dict[category]:\n",
    "                        print('Has tageado la misma categoría. Selecciona otra :)')\n",
    "                        continue\n",
    "\n",
    "                    elif int(usr_input) in list(label_dict.keys()):\n",
    "                        ids_dict[i] = [current_label, label_dict[int(usr_input)], 'KO']\n",
    "                        checkpoint -= 1\n",
    "                        len_ -= 1\n",
    "                        break\n",
    "                    else:\n",
    "                        print('Valor equivocado :( Las opciones van del 1 al 6. Intenta otra vez.')\n",
    "                        continue\n",
    "\n",
    "                except:\n",
    "                    print('Valor equivocado :( No es un número. Intenta otra vez.')\n",
    "\n",
    "        clear_output(wait=True)\n",
    "\n",
    "\n",
    "    return ids_dict\n"
   ]
  },
  {
   "cell_type": "code",
   "execution_count": 13,
   "metadata": {},
   "outputs": [
    {
     "name": "stdout",
     "output_type": "stream",
     "text": [
      "{'8cABbLSBC9RFqHSx_wgG5g': ['food', 'food', 'OK'], 'Q8RtRWNR30z1U-st1f618Q': ['food', 'food', 'OK'], '9jeWcSmt2trLgGthSZjdwg': ['food', 'food', 'OK'], 'Ns6QABZamxkHKbbWV3riwA': ['food', 'food', 'OK'], 'ujxNd-z5iSJ1iR9Tw-E1vg': ['food', 'food', 'OK'], 'NYhaETJyFbCyvwgGKsj2BA': ['food', 'food', 'OK'], 'XCCuNpEQ-SiltHVCZ6jUwg': ['food', 'food', 'OK'], 'hQCbRgn_gdl_zCqa-UrlQQ': ['food', 'food', 'OK'], 'cWgobpio-YuoWOUeExUdWA': ['food', 'food', 'OK'], 'l3PH93TMO1XBHKHd2Wbzuw': ['food', 'food', 'OK']}\n"
     ]
    }
   ],
   "source": [
    "# Categorías ['food', 'inside', 'outside', 'drink', 'menu']\n",
    "# Parámetros: def check_labels(category, img_folder, check_folder, start, end, checkpoint_number, dataframe):\n",
    "\n",
    "\"\"\"\n",
    "Temas pendientes: \n",
    "- Ver si tiene sentido tener un start / stop o incluimos directamente todo el dataset\n",
    "- Checkpoint_number - Ver cúal es el número óptiom de guardados. Realmente es bastante rápido\n",
    "por lo que puede guardar con bastante frecuencia (en el ejemplo esta puesto 2 para ver que funciona)\n",
    "\"\"\"\n",
    "\n",
    "image_path = '/Users/tonivila/Downloads/TheValley_TFM/imagenes_negocios'    # Ruta con las imagenes\n",
    "save_path = '/Users/tonivila/Downloads'                                     # Ruta donde queremos que se guade el json\n",
    "\n",
    "\n",
    "print(check_labels('food',              # Categoria\n",
    "                    image_path,         # ruta imagenes\n",
    "                    save_path,          # ruta guardado checkpoint\n",
    "                    0,                  # donde inicia el dataframe (por posición)\n",
    "                    10,                 # donde termina el dataframe (por posición)\n",
    "                    2,                  # Frecuencia con la que guarda el checkpoint\n",
    "                    df))                # Dataframe de referencia\n"
   ]
  },
  {
   "cell_type": "code",
   "execution_count": null,
   "metadata": {},
   "outputs": [],
   "source": [
    "\n"
   ]
  }
 ],
 "metadata": {
  "kernelspec": {
   "display_name": "Python 3.10.4 ('btc_correlations')",
   "language": "python",
   "name": "python3"
  },
  "language_info": {
   "codemirror_mode": {
    "name": "ipython",
    "version": 3
   },
   "file_extension": ".py",
   "mimetype": "text/x-python",
   "name": "python",
   "nbconvert_exporter": "python",
   "pygments_lexer": "ipython3",
   "version": "3.10.4"
  },
  "orig_nbformat": 4,
  "vscode": {
   "interpreter": {
    "hash": "45094651f2a0e557b8c690629d7dc7600e86dbff1eed6559db87eda57c968262"
   }
  }
 },
 "nbformat": 4,
 "nbformat_minor": 2
}
